{
 "cells": [
  {
   "cell_type": "code",
   "execution_count": 5,
   "id": "f8b92df3-c54a-46e2-8e1c-6302f7ae82dc",
   "metadata": {},
   "outputs": [],
   "source": [
    "def compute_average(runs, dismissals):\n",
    "    if dismissals == 0:\n",
    "        return runs/1\n",
    "    else:\n",
    "        return runs/dismissals"
   ]
  },
  {
   "cell_type": "code",
   "execution_count": 9,
   "id": "f49312b4-d4c3-4788-9ef8-4d16e02c89bf",
   "metadata": {},
   "outputs": [
    {
     "name": "stdout",
     "output_type": "stream",
     "text": [
      "46.125\n"
     ]
    }
   ],
   "source": [
    "runs = 369\n",
    "dismissals = 8\n",
    "\n",
    "print(compute_average(runs, dismissals))"
   ]
  },
  {
   "cell_type": "code",
   "execution_count": null,
   "id": "26bd03df-06bf-4a09-a737-96d8ab455356",
   "metadata": {},
   "outputs": [],
   "source": []
  }
 ],
 "metadata": {
  "kernelspec": {
   "display_name": "Python 3 (ipykernel)",
   "language": "python",
   "name": "python3"
  },
  "language_info": {
   "codemirror_mode": {
    "name": "ipython",
    "version": 3
   },
   "file_extension": ".py",
   "mimetype": "text/x-python",
   "name": "python",
   "nbconvert_exporter": "python",
   "pygments_lexer": "ipython3",
   "version": "3.12.3"
  }
 },
 "nbformat": 4,
 "nbformat_minor": 5
}
